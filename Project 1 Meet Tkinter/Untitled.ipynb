{
 "cells": [
  {
   "cell_type": "code",
   "execution_count": 2,
   "metadata": {},
   "outputs": [],
   "source": [
    "from tkinter import *\n",
    "root = Tk()\n",
    "root.mainloop()"
   ]
  },
  {
   "cell_type": "code",
   "execution_count": 9,
   "metadata": {},
   "outputs": [],
   "source": [
    "\n",
    "from tkinter import *\n",
    "\n",
    "\n",
    "root = Tk()\n",
    "root.title('I am a Top Level Widget, parent to other widgets')\n",
    "#create a frame widget for placing menu\n",
    "mymenubar = Frame(root, relief = 'raised', bd=2)\n",
    "mymenubar.pack(fill = X)\n",
    "\n",
    "# Create  Menu Widget 1 and Sub Menu 1\n",
    "mymenubutton = Menubutton(mymenubar, text = 'Menu Button Widget 1', )\n",
    "mymenubutton.pack(side = LEFT)\n",
    "#menu widget\n",
    "mymenu = Menu(mymenubutton, tearoff=0)\n",
    "mymenubutton['menu'] = mymenu\n",
    "mymenu.add('command', label = 'Menu Widget 1') #Add Sub Menu 1\n",
    "\n",
    "\n",
    "# Create  Menu2 and Submenu2\n",
    "mb2 = Menubutton(mymenubar, text = 'Menu 2', )\n",
    "mb2.pack(side = LEFT)\n",
    "menudd = Menu(mb2, tearoff=0)\n",
    "mb2['menu'] = menudd\n",
    "menudd.add('command', label = 'Sub Menu 2') # Add Sub Menu 2\n",
    "\n",
    "root.mainloop()"
   ]
  },
  {
   "cell_type": "code",
   "execution_count": null,
   "metadata": {},
   "outputs": [],
   "source": []
  },
  {
   "cell_type": "code",
   "execution_count": null,
   "metadata": {},
   "outputs": [],
   "source": []
  }
 ],
 "metadata": {
  "kernelspec": {
   "display_name": "Python 3",
   "language": "python",
   "name": "python3"
  },
  "language_info": {
   "codemirror_mode": {
    "name": "ipython",
    "version": 3
   },
   "file_extension": ".py",
   "mimetype": "text/x-python",
   "name": "python",
   "nbconvert_exporter": "python",
   "pygments_lexer": "ipython3",
   "version": "3.7.3"
  }
 },
 "nbformat": 4,
 "nbformat_minor": 2
}
